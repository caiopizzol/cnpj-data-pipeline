{
 "cells": [
  {
   "cell_type": "markdown",
   "metadata": {},
   "source": [
    "# São Paulo Business Analytics - 3 Million Companies\n",
    "\n",
    "Analyzing the complete São Paulo business ecosystem.  \n",
    "Data source: Brazilian Federal Revenue (Receita Federal)\n"
   ]
  },
  {
   "cell_type": "code",
   "execution_count": null,
   "metadata": {},
   "outputs": [
    {
     "name": "stdout",
     "output_type": "stream",
     "text": [
      "Loading 3M+ companies from GitHub...\n",
      "✅ Loaded 10,000 companies\n",
      "Memory: 4 MB\n"
     ]
    }
   ],
   "source": [
    "import pandas as pd\n",
    "from datetime import datetime\n",
    "import warnings\n",
    "\n",
    "warnings.filterwarnings(\"ignore\")\n",
    "\n",
    "# Load full São Paulo dataset from GitHub Releases\n",
    "# Update with your actual release URL after uploading\n",
    "GITHUB_RELEASE_URL = \"https://github.com/caiopizzol/cnpj-data-pipeline/releases/download/v1.0/sample_20250906.parquet\"\n",
    "\n",
    "try:\n",
    "    print(\"Loading 3M+ companies from GitHub...\")\n",
    "    df = pd.read_parquet(GITHUB_RELEASE_URL)\n",
    "    print(f\"✅ Loaded {len(df):,} companies\")\n",
    "except Exception:\n",
    "    # Fallback to local file\n",
    "    import glob\n",
    "\n",
    "    files = glob.glob(\"exports/sp_full_*.parquet\")\n",
    "    if files:\n",
    "        df = pd.read_parquet(sorted(files)[-1])\n",
    "        print(f\"📁 Using local file: {len(df):,} companies\")\n",
    "    else:\n",
    "        # Use sample for demo\n",
    "        files = glob.glob(\"exports/sample_*.parquet\")\n",
    "        if files:\n",
    "            df = pd.read_parquet(sorted(files)[-1])\n",
    "            print(f\"⚠️ Using sample: {len(df):,} companies\")\n",
    "            print(\"   For full data: python export.py sp_full\")\n",
    "        else:\n",
    "            raise FileNotFoundError(\"No data found. Run: python export.py sample\")\n",
    "\n",
    "print(f\"Memory: {df.memory_usage(deep=True).sum() / 1024**2:.0f} MB\")"
   ]
  },
  {
   "cell_type": "markdown",
   "metadata": {},
   "source": [
    "## Key Insights\n"
   ]
  },
  {
   "cell_type": "code",
   "execution_count": 2,
   "metadata": {},
   "outputs": [
    {
     "name": "stdout",
     "output_type": "stream",
     "text": [
      "Only 100.0% of companies survive more than 5 years\n"
     ]
    }
   ],
   "source": [
    "# 1. Business Survival\n",
    "df[\"data_inicio_atividade\"] = pd.to_datetime(df[\"data_inicio_atividade\"])\n",
    "df[\"age_years\"] = (datetime.now() - df[\"data_inicio_atividade\"]).dt.days / 365.25\n",
    "\n",
    "survival_rate = (df[\"age_years\"] > 5).mean() * 100\n",
    "print(f\"Only {survival_rate:.1f}% of companies survive more than 5 years\")"
   ]
  },
  {
   "cell_type": "code",
   "execution_count": 3,
   "metadata": {},
   "outputs": [
    {
     "name": "stdout",
     "output_type": "stream",
     "text": [
      "Top 10 industries = 29.7% of all companies\n",
      "\n",
      "Top 5 CNAEs:\n",
      "  8112500: 615 companies (6.2%)\n",
      "  9430800: 599 companies (6.0%)\n",
      "  9491000: 571 companies (5.7%)\n",
      "  4781400: 250 companies (2.5%)\n",
      "  5611203: 244 companies (2.4%)\n"
     ]
    }
   ],
   "source": [
    "# 2. Industry Concentration\n",
    "top_industries = df[\"cnae_fiscal_principal\"].value_counts().head(10)\n",
    "concentration = top_industries.sum() / len(df) * 100\n",
    "print(f\"Top 10 industries = {concentration:.1f}% of all companies\")\n",
    "print(\"\\nTop 5 CNAEs:\")\n",
    "for cnae, count in top_industries.head(5).items():\n",
    "    pct = count / len(df) * 100\n",
    "    print(f\"  {cnae}: {count:,} companies ({pct:.1f}%)\")"
   ]
  },
  {
   "cell_type": "code",
   "execution_count": 4,
   "metadata": {},
   "outputs": [
    {
     "name": "stdout",
     "output_type": "stream",
     "text": [
      "Capital by company size:\n",
      "               mean   median  count\n",
      "porte                              \n",
      "01     1.353596e+05      0.0   3888\n",
      "03     2.604410e+05  30000.0   1109\n",
      "05     1.661051e+09      0.0   5003\n"
     ]
    }
   ],
   "source": [
    "# 3. Capital Distribution\n",
    "capital_by_size = df.groupby(\"porte\")[\"capital_social\"].agg([\"mean\", \"median\", \"count\"])\n",
    "print(\"Capital by company size:\")\n",
    "print(capital_by_size)"
   ]
  },
  {
   "cell_type": "code",
   "execution_count": 5,
   "metadata": {},
   "outputs": [
    {
     "name": "stdout",
     "output_type": "stream",
     "text": [
      "\n",
      "São Paulo capital: 33.6% of all companies\n",
      "Companies spread across 547 cities\n"
     ]
    }
   ],
   "source": [
    "# 4. Geographic Insights\n",
    "cities = df[\"municipio\"].value_counts()\n",
    "top_city_pct = cities.iloc[0] / len(df) * 100\n",
    "print(f\"\\nSão Paulo capital: {top_city_pct:.1f}% of all companies\")\n",
    "print(f\"Companies spread across {len(cities)} cities\")"
   ]
  },
  {
   "cell_type": "markdown",
   "metadata": {},
   "source": [
    "## Your Analysis\n",
    "\n",
    "```python\n",
    "# Filter by your industry\n",
    "my_cnae = '6201500'  # Software\n",
    "competitors = df[df['cnae_fiscal_principal'] == my_cnae]\n",
    "\n",
    "# Find companies in your city\n",
    "my_city = '3550308'  # São Paulo\n",
    "local = df[df['municipio'] == my_city]\n",
    "```\n",
    "\n",
    "---\n",
    "\n",
    "Data source: [cnpj-data-pipeline](https://github.com/caiopizzol/cnpj-data-pipeline)\n"
   ]
  }
 ],
 "metadata": {
  "kernelspec": {
   "display_name": "Python 3 (ipykernel)",
   "language": "python",
   "name": "python3"
  },
  "language_info": {
   "codemirror_mode": {
    "name": "ipython",
    "version": 3
   },
   "file_extension": ".py",
   "mimetype": "text/x-python",
   "name": "python",
   "nbconvert_exporter": "python",
   "pygments_lexer": "ipython3",
   "version": "3.11.7"
  }
 },
 "nbformat": 4,
 "nbformat_minor": 4
}
